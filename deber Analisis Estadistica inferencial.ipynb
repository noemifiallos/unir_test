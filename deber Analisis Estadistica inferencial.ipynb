{
 "cells": [
  {
   "cell_type": "code",
   "execution_count": 36,
   "id": "c4a8d9cc-3dc8-4e07-ac94-ff51b1aec6bf",
   "metadata": {
    "tags": []
   },
   "outputs": [],
   "source": [
    "import pandas as pd\n",
    "import numpy as np\n",
    "import seaborn as sns\n",
    "import matplotlib.pyplot as plt\n",
    "import statsmodels.api as sm\n",
    "# from statsmodels.stats.weightstats import ttest_ind\n",
    "from scipy.stats import ttest_ind, ttest_rel, ttest_1samp"
   ]
  },
  {
   "cell_type": "code",
   "execution_count": 3,
   "id": "478bdd2e-1f7d-47f7-b0a7-b580c925816f",
   "metadata": {
    "tags": []
   },
   "outputs": [],
   "source": [
    "df= pd.read_csv('https://raw.githubusercontent.com/noemifiallos/unir_test/main/StudentsPerformance.csv')"
   ]
  },
  {
   "cell_type": "code",
   "execution_count": 4,
   "id": "d5d21b9c-53eb-4406-b487-fe4929b59647",
   "metadata": {
    "tags": []
   },
   "outputs": [
    {
     "data": {
      "text/html": [
       "<div>\n",
       "<style scoped>\n",
       "    .dataframe tbody tr th:only-of-type {\n",
       "        vertical-align: middle;\n",
       "    }\n",
       "\n",
       "    .dataframe tbody tr th {\n",
       "        vertical-align: top;\n",
       "    }\n",
       "\n",
       "    .dataframe thead th {\n",
       "        text-align: right;\n",
       "    }\n",
       "</style>\n",
       "<table border=\"1\" class=\"dataframe\">\n",
       "  <thead>\n",
       "    <tr style=\"text-align: right;\">\n",
       "      <th></th>\n",
       "      <th>gender</th>\n",
       "      <th>race/ethnicity</th>\n",
       "      <th>parental level of education</th>\n",
       "      <th>lunch</th>\n",
       "      <th>test preparation course</th>\n",
       "      <th>math score</th>\n",
       "      <th>reading score</th>\n",
       "      <th>writing score</th>\n",
       "    </tr>\n",
       "  </thead>\n",
       "  <tbody>\n",
       "    <tr>\n",
       "      <th>0</th>\n",
       "      <td>female</td>\n",
       "      <td>group B</td>\n",
       "      <td>bachelor's degree</td>\n",
       "      <td>standard</td>\n",
       "      <td>none</td>\n",
       "      <td>72</td>\n",
       "      <td>72</td>\n",
       "      <td>74</td>\n",
       "    </tr>\n",
       "    <tr>\n",
       "      <th>1</th>\n",
       "      <td>female</td>\n",
       "      <td>group C</td>\n",
       "      <td>some college</td>\n",
       "      <td>standard</td>\n",
       "      <td>completed</td>\n",
       "      <td>69</td>\n",
       "      <td>90</td>\n",
       "      <td>88</td>\n",
       "    </tr>\n",
       "    <tr>\n",
       "      <th>2</th>\n",
       "      <td>female</td>\n",
       "      <td>group B</td>\n",
       "      <td>master's degree</td>\n",
       "      <td>standard</td>\n",
       "      <td>none</td>\n",
       "      <td>90</td>\n",
       "      <td>95</td>\n",
       "      <td>93</td>\n",
       "    </tr>\n",
       "    <tr>\n",
       "      <th>3</th>\n",
       "      <td>male</td>\n",
       "      <td>group A</td>\n",
       "      <td>associate's degree</td>\n",
       "      <td>free/reduced</td>\n",
       "      <td>none</td>\n",
       "      <td>47</td>\n",
       "      <td>57</td>\n",
       "      <td>44</td>\n",
       "    </tr>\n",
       "    <tr>\n",
       "      <th>4</th>\n",
       "      <td>male</td>\n",
       "      <td>group C</td>\n",
       "      <td>some college</td>\n",
       "      <td>standard</td>\n",
       "      <td>none</td>\n",
       "      <td>76</td>\n",
       "      <td>78</td>\n",
       "      <td>75</td>\n",
       "    </tr>\n",
       "    <tr>\n",
       "      <th>...</th>\n",
       "      <td>...</td>\n",
       "      <td>...</td>\n",
       "      <td>...</td>\n",
       "      <td>...</td>\n",
       "      <td>...</td>\n",
       "      <td>...</td>\n",
       "      <td>...</td>\n",
       "      <td>...</td>\n",
       "    </tr>\n",
       "    <tr>\n",
       "      <th>995</th>\n",
       "      <td>female</td>\n",
       "      <td>group E</td>\n",
       "      <td>master's degree</td>\n",
       "      <td>standard</td>\n",
       "      <td>completed</td>\n",
       "      <td>88</td>\n",
       "      <td>99</td>\n",
       "      <td>95</td>\n",
       "    </tr>\n",
       "    <tr>\n",
       "      <th>996</th>\n",
       "      <td>male</td>\n",
       "      <td>group C</td>\n",
       "      <td>high school</td>\n",
       "      <td>free/reduced</td>\n",
       "      <td>none</td>\n",
       "      <td>62</td>\n",
       "      <td>55</td>\n",
       "      <td>55</td>\n",
       "    </tr>\n",
       "    <tr>\n",
       "      <th>997</th>\n",
       "      <td>female</td>\n",
       "      <td>group C</td>\n",
       "      <td>high school</td>\n",
       "      <td>free/reduced</td>\n",
       "      <td>completed</td>\n",
       "      <td>59</td>\n",
       "      <td>71</td>\n",
       "      <td>65</td>\n",
       "    </tr>\n",
       "    <tr>\n",
       "      <th>998</th>\n",
       "      <td>female</td>\n",
       "      <td>group D</td>\n",
       "      <td>some college</td>\n",
       "      <td>standard</td>\n",
       "      <td>completed</td>\n",
       "      <td>68</td>\n",
       "      <td>78</td>\n",
       "      <td>77</td>\n",
       "    </tr>\n",
       "    <tr>\n",
       "      <th>999</th>\n",
       "      <td>female</td>\n",
       "      <td>group D</td>\n",
       "      <td>some college</td>\n",
       "      <td>free/reduced</td>\n",
       "      <td>none</td>\n",
       "      <td>77</td>\n",
       "      <td>86</td>\n",
       "      <td>86</td>\n",
       "    </tr>\n",
       "  </tbody>\n",
       "</table>\n",
       "<p>1000 rows × 8 columns</p>\n",
       "</div>"
      ],
      "text/plain": [
       "     gender race/ethnicity parental level of education         lunch  \\\n",
       "0    female        group B           bachelor's degree      standard   \n",
       "1    female        group C                some college      standard   \n",
       "2    female        group B             master's degree      standard   \n",
       "3      male        group A          associate's degree  free/reduced   \n",
       "4      male        group C                some college      standard   \n",
       "..      ...            ...                         ...           ...   \n",
       "995  female        group E             master's degree      standard   \n",
       "996    male        group C                 high school  free/reduced   \n",
       "997  female        group C                 high school  free/reduced   \n",
       "998  female        group D                some college      standard   \n",
       "999  female        group D                some college  free/reduced   \n",
       "\n",
       "    test preparation course  math score  reading score  writing score  \n",
       "0                      none          72             72             74  \n",
       "1                 completed          69             90             88  \n",
       "2                      none          90             95             93  \n",
       "3                      none          47             57             44  \n",
       "4                      none          76             78             75  \n",
       "..                      ...         ...            ...            ...  \n",
       "995               completed          88             99             95  \n",
       "996                    none          62             55             55  \n",
       "997               completed          59             71             65  \n",
       "998               completed          68             78             77  \n",
       "999                    none          77             86             86  \n",
       "\n",
       "[1000 rows x 8 columns]"
      ]
     },
     "execution_count": 4,
     "metadata": {},
     "output_type": "execute_result"
    }
   ],
   "source": [
    "df"
   ]
  },
  {
   "cell_type": "code",
   "execution_count": 5,
   "id": "4d9eb04b-7a77-4adf-93e1-9ec81417639a",
   "metadata": {
    "tags": []
   },
   "outputs": [
    {
     "name": "stdout",
     "output_type": "stream",
     "text": [
      "Correlación entre 'gender' y 'math_score': 0.16798223810035579\n"
     ]
    }
   ],
   "source": [
    "# Convertir la columna \"gender\" a categoría\n",
    "df[\"gender\"] = df[\"gender\"].astype(\"category\")\n",
    "\n",
    "# Calcular el coeficiente de correlación de Pearson\n",
    "corr = np.corrcoef(df[\"math score\"], df[\"gender\"].cat.codes)[0, 1]\n",
    "\n",
    "# Imprimir el valor de la correlación\n",
    "print(f\"Correlación entre 'gender' y 'math_score': {corr}\")"
   ]
  },
  {
   "cell_type": "code",
   "execution_count": 6,
   "id": "1cd61260-7e3e-4033-b3b6-6ecc7ef00007",
   "metadata": {
    "tags": []
   },
   "outputs": [
    {
     "data": {
      "text/plain": [
       "gender                         category\n",
       "race/ethnicity                   object\n",
       "parental level of education      object\n",
       "lunch                            object\n",
       "test preparation course          object\n",
       "math score                        int64\n",
       "reading score                     int64\n",
       "writing score                     int64\n",
       "dtype: object"
      ]
     },
     "execution_count": 6,
     "metadata": {},
     "output_type": "execute_result"
    }
   ],
   "source": [
    "df.dtypes"
   ]
  },
  {
   "cell_type": "code",
   "execution_count": 7,
   "id": "74eb12f2-2234-44c0-b656-da5f409a788f",
   "metadata": {
    "tags": []
   },
   "outputs": [
    {
     "name": "stdout",
     "output_type": "stream",
     "text": [
      "Medias por género: gender\n",
      "female    63.633205\n",
      "male      68.728216\n",
      "Name: math score, dtype: float64\n"
     ]
    }
   ],
   "source": [
    "medias_por_genero = df.groupby(\"gender\")[\"math score\"].mean()\n",
    "\n",
    "print(f\"Medias por género: {medias_por_genero}\")"
   ]
  },
  {
   "cell_type": "code",
   "execution_count": 8,
   "id": "93e14b91-fbdd-4e4e-9f55-bddb48d31817",
   "metadata": {
    "tags": []
   },
   "outputs": [
    {
     "name": "stdout",
     "output_type": "stream",
     "text": [
      "Desviaciones estándar por género: gender\n",
      "female    15.491453\n",
      "male      14.356277\n",
      "Name: math score, dtype: float64\n"
     ]
    }
   ],
   "source": [
    "desviaciones_estandar_por_genero = df.groupby(\"gender\")[\"math score\"].std()\n",
    "\n",
    "print(f\"Desviaciones estándar por género: {desviaciones_estandar_por_genero}\")"
   ]
  },
  {
   "cell_type": "code",
   "execution_count": 9,
   "id": "613efe6d-609d-4aec-aa86-12bb38f76f72",
   "metadata": {
    "tags": []
   },
   "outputs": [
    {
     "name": "stdout",
     "output_type": "stream",
     "text": [
      "Varianza por género: gender\n",
      "female    239.985124\n",
      "male      206.102695\n",
      "Name: math score, dtype: float64\n"
     ]
    }
   ],
   "source": [
    "varianza_por_genero = df.groupby(\"gender\")[\"math score\"].var()\n",
    "\n",
    "print(f\"Varianza por género: {varianza_por_genero}\")"
   ]
  },
  {
   "cell_type": "code",
   "execution_count": 10,
   "id": "a36a17eb-f9ce-454a-953c-76c922d3b861",
   "metadata": {
    "tags": []
   },
   "outputs": [
    {
     "data": {
      "image/png": "[encoded data removed]",
      "text/plain": [
       "<Figure size 640x480 with 1 Axes>"
      ]
     },
     "metadata": {},
     "output_type": "display_data"
    }
   ],
   "source": [
    "sns.boxplot(data=df, x=\"gender\", y=\"math score\")\n",
    "plt.show()"
   ]
  },
  {
   "cell_type": "code",
   "execution_count": 11,
   "id": "966e3da9-90ff-4880-b0e3-04ff3d6d3305",
   "metadata": {
    "tags": []
   },
   "outputs": [
    {
     "name": "stderr",
     "output_type": "stream",
     "text": [
      "C:\\Users\\noemi.fiallos\\AppData\\Local\\anaconda3\\Lib\\site-packages\\seaborn\\axisgrid.py:118: UserWarning: The figure layout has changed to tight\n",
      "  self._figure.tight_layout(*args, **kwargs)\n"
     ]
    },
    {
     "data": {
      "image/png": "[encoded data removed]",
      "text/plain": [
       "<Figure size 598x500 with 1 Axes>"
      ]
     },
     "metadata": {},
     "output_type": "display_data"
    }
   ],
   "source": [
    "sns.displot(data=df, x=\"math score\", hue=\"gender\", kind=\"kde\")\n",
    "plt.show()"
   ]
  },
  {
   "cell_type": "code",
   "execution_count": 31,
   "id": "08c09f3b-687b-4b64-8141-569ba8ff4b0c",
   "metadata": {
    "tags": []
   },
   "outputs": [],
   "source": [
    "# Realizar el contraste de t de Student\n",
    "group1 = df[df[\"gender\"] == \"male\"][\"math score\"]\n",
    "group2 = df[df[\"gender\"] == \"female\"][\"math score\"]"
   ]
  },
  {
   "cell_type": "code",
   "execution_count": 32,
   "id": "0d53945f-0159-4d78-9e3b-4fa211db9369",
   "metadata": {
    "tags": []
   },
   "outputs": [
    {
     "data": {
      "text/plain": [
       "3      47\n",
       "4      76\n",
       "7      40\n",
       "8      64\n",
       "10     58\n",
       "       ..\n",
       "985    57\n",
       "987    81\n",
       "990    86\n",
       "994    63\n",
       "996    62\n",
       "Name: math score, Length: 482, dtype: int64"
      ]
     },
     "execution_count": 32,
     "metadata": {},
     "output_type": "execute_result"
    }
   ],
   "source": [
    "group1"
   ]
  },
  {
   "cell_type": "code",
   "execution_count": 33,
   "id": "2e77ea03-985d-45be-8530-bcb2767185cd",
   "metadata": {
    "tags": []
   },
   "outputs": [
    {
     "data": {
      "text/plain": [
       "0      72\n",
       "1      69\n",
       "2      90\n",
       "5      71\n",
       "6      88\n",
       "       ..\n",
       "993    62\n",
       "995    88\n",
       "997    59\n",
       "998    68\n",
       "999    77\n",
       "Name: math score, Length: 518, dtype: int64"
      ]
     },
     "execution_count": 33,
     "metadata": {},
     "output_type": "execute_result"
    }
   ],
   "source": [
    "group2"
   ]
  },
  {
   "cell_type": "code",
   "execution_count": 37,
   "id": "9e4add0b-c4a0-471d-971e-5e7ae7138558",
   "metadata": {
    "tags": []
   },
   "outputs": [
    {
     "name": "stdout",
     "output_type": "stream",
     "text": [
      "Estadístico t: 5.383245869828983\n",
      "Valor p: 9.120185549328822e-08\n"
     ]
    }
   ],
   "source": [
    "t_statistic, p_value = ttest_ind(group1, group2)\n",
    "\n",
    "# Imprimir resultados\n",
    "print(\"Estadístico t:\", t_statistic)\n",
    "print(\"Valor p:\", p_value)"
   ]
  },
  {
   "cell_type": "code",
   "execution_count": 39,
   "id": "c2966c25-6b6d-4e86-8bb8-7733a5cda640",
   "metadata": {
    "tags": []
   },
   "outputs": [
    {
     "name": "stdout",
     "output_type": "stream",
     "text": [
      "Estadístico t: 7.451056467473455\n",
      "Valor p: 2.0027966545279011e-13\n",
      "Se rechaza la hipótesis nula.\n",
      "Los estudiantes que tienen un almuerzo estándar obtienen mejores calificaciones en lectura.\n"
     ]
    }
   ],
   "source": [
    "import pandas as pd\n",
    "import scipy.stats as stats\n",
    "\n",
    "# Cargar la base de datos\n",
    "df= pd.read_csv('https://raw.githubusercontent.com/noemifiallos/unir_test/main/StudentsPerformance.csv')\n",
    "\n",
    "# Seleccionar las variables\n",
    "lunch_type = df[\"lunch\"]\n",
    "reading_score = df[\"reading score\"]\n",
    "\n",
    "# Prueba t para dos muestras independientes\n",
    "t_stat, p_value = stats.ttest_ind(reading_score[lunch_type == \"standard\"], reading_score[lunch_type == \"free/reduced\"])\n",
    "\n",
    "# Imprimir resultados\n",
    "print(f\"Estadístico t: {t_stat}\")\n",
    "print(f\"Valor p: {p_value}\")\n",
    "\n",
    "# Evaluación de la hipótesis\n",
    "if p_value < 0.05:\n",
    "    print(\"Se rechaza la hipótesis nula.\")\n",
    "    print(\"Los estudiantes que tienen un almuerzo estándar obtienen mejores calificaciones en lectura.\")\n",
    "else:\n",
    "    print(\"No se rechaza la hipótesis nula.\")\n",
    "    print(\"No hay evidencia suficiente para concluir que los estudiantes que tienen un almuerzo estándar obtienen mejores calificaciones en lectura.\")"
   ]
  },
  {
   "cell_type": "code",
   "execution_count": 42,
   "id": "0f0c226a-db47-4e23-b579-30a87b3c6fac",
   "metadata": {
    "tags": []
   },
   "outputs": [
    {
     "name": "stdout",
     "output_type": "stream",
     "text": [
      "Medias por género: lunch\n",
      "free/reduced    64.653521\n",
      "standard        71.654264\n",
      "Name: reading score, dtype: float64\n"
     ]
    }
   ],
   "source": [
    "medias_por_luch = df.groupby(\"lunch\")[\"reading score\"].mean()\n",
    "\n",
    "print(f\"Medias por género: {medias_por_luch}\")"
   ]
  }
 ],
 "metadata": {
  "kernelspec": {
   "display_name": "Python 3 (ipykernel)",
   "language": "python",
   "name": "python3"
  },
  "language_info": {
   "codemirror_mode": {
    "name": "ipython",
    "version": 3
   },
   "file_extension": ".py",
   "mimetype": "text/x-python",
   "name": "python",
   "nbconvert_exporter": "python",
   "pygments_lexer": "ipython3",
   "version": "3.11.5"
  }
 },
 "nbformat": 4,
 "nbformat_minor": 5
}
